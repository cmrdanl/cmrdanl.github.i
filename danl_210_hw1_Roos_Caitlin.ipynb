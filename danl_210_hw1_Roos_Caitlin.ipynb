{
  "nbformat": 4,
  "nbformat_minor": 0,
  "metadata": {
    "colab": {
      "provenance": [],
      "authorship_tag": "ABX9TyOV2kyhb3oXH5xjLbhgtjEk",
      "include_colab_link": true
    },
    "kernelspec": {
      "name": "python3",
      "display_name": "Python 3"
    },
    "language_info": {
      "name": "python"
    }
  },
  "cells": [
    {
      "cell_type": "markdown",
      "metadata": {
        "id": "view-in-github",
        "colab_type": "text"
      },
      "source": [
        "<a href=\"https://colab.research.google.com/github/cmrdanl/cmrdanl.github.i/blob/main/danl_210_hw1_Roos_Caitlin.ipynb\" target=\"_parent\"><img src=\"https://colab.research.google.com/assets/colab-badge.svg\" alt=\"Open In Colab\"/></a>"
      ]
    },
    {
      "cell_type": "markdown",
      "source": [
        "Due 17 February 10:30 AM"
      ],
      "metadata": {
        "id": "DE1rQq4VF10r"
      }
    },
    {
      "cell_type": "markdown",
      "source": [
        "## Part 3"
      ],
      "metadata": {
        "id": "KBa6rvTYF7dw"
      }
    },
    {
      "cell_type": "markdown",
      "source": [
        "Question 0 : My GitHub username is **cmrdanl**"
      ],
      "metadata": {
        "id": "MxvpHt00Jsx8"
      }
    },
    {
      "cell_type": "code",
      "execution_count": null,
      "metadata": {
        "id": "7knfjPBZFo14"
      },
      "outputs": [],
      "source": [
        "# Question 1a\n",
        "\n",
        "list = [1,2,3,4,5,6,7,8,9,10]\n",
        "\n",
        "list.append(11)\n",
        "\n",
        "list.remove(5)\n",
        "\n",
        "print(list)\n"
      ]
    },
    {
      "cell_type": "code",
      "source": [
        "# Question 1b\n",
        "\n",
        "dict_salaries = {'Alice': 50000, 'Bob': 60000, 'Charlie': 70000}\n",
        "\n",
        "dict_salaries.update({'Dana': 65000})\n",
        "dict_salaries.update({'Alice':55000})\n",
        "\n",
        "\n",
        "for x in dict_salaries:\n",
        "  print(str(x) + ' makes $' + str(dict_salaries[x]))\n",
        "\n"
      ],
      "metadata": {
        "id": "n71p2_l9KmEt"
      },
      "execution_count": null,
      "outputs": []
    },
    {
      "cell_type": "code",
      "source": [
        "# Question 2a\n",
        "\n",
        "salary_2a = 75000\n",
        "\n",
        "while True:\n",
        "  if salary_2a < 50000:\n",
        "    print('Low')\n",
        "    break\n",
        "  elif salary_2a in range(50000,99999):\n",
        "    print('Medium')\n",
        "    break\n",
        "\n",
        "  else:\n",
        "    print(\"High\")\n",
        "    break\n",
        "\n",
        "\n"
      ],
      "metadata": {
        "id": "LrTZwpXvNXJf"
      },
      "execution_count": null,
      "outputs": []
    },
    {
      "cell_type": "code",
      "source": [
        "# Question 2b\n",
        "role ='Manager'\n",
        "\n",
        "salary_2b = 85000\n",
        "\n",
        "while True:\n",
        "\n",
        "  if salary_2b > 80000:\n",
        "\n",
        "    if role == 'Manager':\n",
        "      print(\"Eligible for bonus\")\n",
        "      break\n",
        "    else:\n",
        "      print('No action needed')\n",
        "      break\n",
        "\n",
        "  elif salary_2b < 60000:\n",
        "\n",
        "    if role == 'Analyst':\n",
        "      print('Eligible for raise')\n",
        "      break\n",
        "    else:\n",
        "      print('No action needed')\n",
        "      break\n",
        "  else:\n",
        "    print('No action needed')\n",
        "    break"
      ],
      "metadata": {
        "id": "9edMpapASNNX"
      },
      "execution_count": null,
      "outputs": []
    },
    {
      "cell_type": "code",
      "source": [
        "# Question 3a\n",
        "\n",
        "list_salaries = [45000, 60000, 75000, 120000, 30000]\n",
        "\n",
        "sum_ = 0\n",
        "#initiating the sum to be 0 at 1st\n",
        "\n",
        "for x in list_salaries:\n",
        "  sum_ = sum_ + x\n",
        "# a function to sum up the salaries for me\n",
        "av_sal = sum_/len(list_salaries)\n",
        "#taking average\n",
        "\n",
        "for x in range(len(list_salaries)):\n",
        "\n",
        "  if int(list_salaries[x]) <av_sal :\n",
        "    print(str(list_salaries[x]) +' is Below Average')\n",
        "\n",
        "  elif int(list_salaries[x]) > av_sal :\n",
        "    print(str(list_salaries[x]) +' is Above Average')\n",
        "\n",
        "  else:\n",
        "    print('Tis is the average salary')\n",
        "    # I added this as it's completely possible that someone could be making the average salary of 66000\n",
        "\n",
        "\n"
      ],
      "metadata": {
        "id": "qLk5-d0jUS6I"
      },
      "execution_count": null,
      "outputs": []
    },
    {
      "cell_type": "code",
      "source": [
        "# Question 3b\n",
        "\n",
        "salary_3b = 50000\n",
        "\n",
        "while salary_3b <= 80000:\n",
        "\n",
        "  salary_3b += 5000\n",
        "\n",
        "  print(salary_3b)\n",
        "\n",
        "  continue\n"
      ],
      "metadata": {
        "id": "QvKiiKiYYkMW"
      },
      "execution_count": null,
      "outputs": []
    },
    {
      "cell_type": "code",
      "source": [
        "# Question 3c\n",
        "\n",
        "salaries = {'Alice': 50000, 'Bob': 60000, 'Charlie': 70000, 'Dana': 45000}\n",
        "\n",
        "salaries.get('Alice')\n",
        "\n",
        "for x in salaries:\n",
        "# will go through list\n",
        "  if int(salaries.get(x)) > 55000:\n",
        "    # only if over 55000\n",
        "    print(x)\n",
        "\n"
      ],
      "metadata": {
        "id": "1Pz7b_qsZs_W"
      },
      "execution_count": null,
      "outputs": []
    },
    {
      "cell_type": "code",
      "source": [
        "# Question 3d\n",
        "data_list = [42, 3.14, 'Data Analytics', True, None, [1, 2, 3], {'key': 'value'}, (4, 5)]\n",
        "\n",
        "for x in data_list:\n",
        "  if type(x) == int:\n",
        "    print(type(str(x)))\n",
        "\n",
        "  elif type(x) == float:\n",
        "    x = str(3.14)\n",
        "    print(type(float(x)))\n",
        "\n",
        "  elif type(x) == bool:\n",
        "    print(type(int(x)))\n",
        "\n",
        "  else:\n",
        "    print(type(x))\n",
        ""
      ],
      "metadata": {
        "id": "f0s3rQelaYeg"
      },
      "execution_count": null,
      "outputs": []
    },
    {
      "cell_type": "code",
      "source": [
        "# Question 4a\n",
        "a = 10\n",
        "b = 0\n",
        "\n",
        "try:\n",
        "  print(a/b)\n",
        "\n",
        "except:\n",
        "  print('Cannot divide by zero!')\n"
      ],
      "metadata": {
        "colab": {
          "base_uri": "https://localhost:8080/"
        },
        "id": "lencWT1sefTj",
        "outputId": "1f549af7-2423-4452-df0f-3ca6737dac84"
      },
      "execution_count": 33,
      "outputs": [
        {
          "output_type": "stream",
          "name": "stdout",
          "text": [
            "Cannot divide by zero!\n"
          ]
        }
      ]
    },
    {
      "cell_type": "code",
      "source": [
        "from functools import total_ordering\n",
        "# Question 4b\n",
        "salaries = {'Alice': 50000, 'Bob': None, 'Charlie': 70000, 'Dana': None, 'Eve': 80000}\n",
        "total = 0\n",
        "\n",
        "for x in salaries:\n",
        "  try:\n",
        "    total += salaries.get(x)\n",
        "  except:\n",
        "    total = total\n",
        "\n",
        "print(total)\n"
      ],
      "metadata": {
        "colab": {
          "base_uri": "https://localhost:8080/"
        },
        "id": "PPey6EbfgVrv",
        "outputId": "0bb3e90f-2e57-45b5-ac96-797652878789"
      },
      "execution_count": 49,
      "outputs": [
        {
          "output_type": "stream",
          "name": "stdout",
          "text": [
            "200000\n"
          ]
        }
      ]
    },
    {
      "cell_type": "code",
      "source": [
        "# Question 5\n",
        "import math as mth\n",
        "\n",
        "sq = mth.sqrt(81)\n",
        "\n",
        "print(sq)"
      ],
      "metadata": {
        "colab": {
          "base_uri": "https://localhost:8080/"
        },
        "id": "dfke6OaQhg8w",
        "outputId": "f36a0dd2-2e61-4c33-ce70-6b329fdca638"
      },
      "execution_count": 55,
      "outputs": [
        {
          "output_type": "stream",
          "name": "stdout",
          "text": [
            "9.0\n"
          ]
        }
      ]
    }
  ]
}